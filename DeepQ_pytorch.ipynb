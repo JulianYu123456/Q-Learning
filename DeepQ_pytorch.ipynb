{
 "cells": [
  {
   "cell_type": "code",
   "execution_count": 4,
   "metadata": {},
   "outputs": [],
   "source": [
    "import ipympl\n",
    "import matplotlib.pyplot as plt\n",
    "import gym\n",
    "import numpy as np\n",
    "from tqdm import tqdm, trange\n",
    "import pandas as pd\n",
    "import torch\n",
    "import torch.nn as nn\n",
    "import torch.optim as optim\n",
    "import torch.nn.functional as F\n",
    "from torch.autograd import Variable\n",
    "from tensorboardX import SummaryWriter\n",
    "from datetime import datetime\n",
    "import glob, os\n",
    "from time import time"
   ]
  },
  {
   "cell_type": "code",
   "execution_count": 6,
   "metadata": {},
   "outputs": [],
   "source": [
    "env = gym.make('MountainCar-v0')\n",
    "env.seed(1); torch.manual_seed(1); np.random.seed(1)\n",
    "start_time = int(time())\n",
    "writer = SummaryWriter(f'logs/deep_pytorch/{start_time}')"
   ]
  },
  {
   "cell_type": "code",
   "execution_count": 9,
   "metadata": {},
   "outputs": [
    {
     "name": "stdout",
     "output_type": "stream",
     "text": [
      "Furthest Position: -0.10450220672068848\n"
     ]
    },
    {
     "data": {
      "image/png": "[encoded data removed]",
      "text/plain": [
       "<Figure size 720x360 with 2 Axes>"
      ]
     },
     "metadata": {
      "needs_background": "light"
     },
     "output_type": "display_data"
    },
    {
     "name": "stdout",
     "output_type": "stream",
     "text": [
      "successful episodes: 0\n"
     ]
    }
   ],
   "source": [
    "max_position = -.4\n",
    "positions = np.ndarray([0,2])\n",
    "rewards = []\n",
    "successful = []\n",
    "for episode in range(1000):\n",
    "    running_reward = 0\n",
    "    env.reset()\n",
    "    done = False\n",
    "    for i in range(200):\n",
    "        state, reward, done, _ = env.step(np.random.randint(0,3))\n",
    "        # Give a reward for reaching a new maximum position\n",
    "        if state[0] > max_position:\n",
    "            max_position = state[0]\n",
    "            positions = np.append(positions, [[episode, max_position]], axis=0)\n",
    "            running_reward += 10\n",
    "        else:\n",
    "            running_reward += reward\n",
    "        if done: \n",
    "            if state[0] >= 0.5:\n",
    "                successful.append(episode)\n",
    "            rewards.append(running_reward)\n",
    "            break\n",
    "\n",
    "print('Furthest Position: {}'.format(max_position))\n",
    "plt.figure(1, figsize=[10,5])\n",
    "plt.subplot(211)\n",
    "plt.plot(positions[:,0], positions[:,1])\n",
    "plt.xlabel('Episode')\n",
    "plt.ylabel('Furthest Position')\n",
    "plt.subplot(212)\n",
    "plt.plot(rewards)\n",
    "plt.xlabel('Episode')\n",
    "plt.ylabel('Reward')\n",
    "plt.show()\n",
    "print('successful episodes: {}'.format(np.count_nonzero(successful)))"
   ]
  },
  {
   "cell_type": "code",
   "execution_count": 11,
   "metadata": {},
   "outputs": [],
   "source": [
    "# I tried different weight initializations but found they did not perform well.\n",
    "\n",
    "def weights_init(m):\n",
    "    classname = m.__class__.__name__\n",
    "    if classname.find('Linear') != -1:\n",
    "        nn.init.normal_(m.weight, 0, 1)\n",
    "\n",
    "class Policy(nn.Module):\n",
    "    def __init__(self):\n",
    "        super(Policy, self).__init__()\n",
    "        self.state_space = env.observation_space.shape[0]\n",
    "        self.action_space = env.action_space.n\n",
    "        self.hidden = 100\n",
    "        self.l1 = nn.Linear(self.state_space, self.hidden, bias=False)\n",
    "        self.l2 = nn.Linear(self.hidden, self.action_space, bias=False)\n",
    "    \n",
    "    def forward(self, x):    \n",
    "        model = torch.nn.Sequential(\n",
    "            self.l1,\n",
    "            self.l2,\n",
    "        )\n",
    "        return model(x)"
   ]
  },
  {
   "cell_type": "code",
   "execution_count": 12,
   "metadata": {},
   "outputs": [
    {
     "name": "stderr",
     "output_type": "stream",
     "text": [
      "100%|██████████| 1000/1000 [01:15<00:00, 14.98it/s]"
     ]
    },
    {
     "name": "stdout",
     "output_type": "stream",
     "text": [
      "successful episodes: 628 - 62.8000%\n"
     ]
    },
    {
     "name": "stderr",
     "output_type": "stream",
     "text": [
      "\n"
     ]
    }
   ],
   "source": [
    "# Parameters\n",
    "steps = 200\n",
    "state = env.reset()\n",
    "epsilon = 0.3\n",
    "gamma = 0.99\n",
    "loss_history = []\n",
    "reward_history = []\n",
    "episodes = 1000\n",
    "max_position = -0.4\n",
    "learning_rate = 0.001\n",
    "successes = 0\n",
    "position = []\n",
    "\n",
    "# Initialize Policy\n",
    "policy = Policy()\n",
    "#policy.apply(weights_init)\n",
    "loss_fn = nn.MSELoss()\n",
    "optimizer = optim.SGD(policy.parameters(), lr=learning_rate)\n",
    "scheduler = optim.lr_scheduler.StepLR(optimizer, step_size=1, gamma=0.9)\n",
    "\n",
    "for episode in trange(episodes):\n",
    "    episode_loss = 0\n",
    "    episode_reward = 0\n",
    "    state = env.reset()\n",
    "\n",
    "    for s in range(steps):\n",
    "        # Uncomment to render environment\n",
    "        #if episode % 100 == 0 and episode > 0:\n",
    "        #    env.render()\n",
    "        \n",
    "        # Get first action value function\n",
    "        Q = policy(Variable(torch.from_numpy(state).type(torch.FloatTensor)))\n",
    "        \n",
    "        # Choose epsilon-greedy action\n",
    "        if np.random.rand(1) < epsilon:\n",
    "            action = np.random.randint(0,3)\n",
    "        else:\n",
    "            _, action = torch.max(Q, -1)\n",
    "            action = action.item()\n",
    "        \n",
    "        # Step forward and receive next state and reward\n",
    "        state_1, reward, done, _ = env.step(action)\n",
    "        \n",
    "        # Adjust reward based on car position\n",
    "        reward = state_1[0] + 0.5\n",
    "        \n",
    "        # Keep track of max position\n",
    "        if state_1[0] > max_position:\n",
    "            max_position = state_1[0]\n",
    "            writer.add_scalar('data/max_position', max_position, episode)\n",
    "        \n",
    "        # Adjust reward for task completion\n",
    "        if state_1[0] >= 0.5:\n",
    "            reward += 1\n",
    "        \n",
    "        # Find max Q for t+1 state\n",
    "        Q1 = policy(Variable(torch.from_numpy(state_1).type(torch.FloatTensor)))\n",
    "        maxQ1, _ = torch.max(Q1, -1)\n",
    "        \n",
    "        # Create target Q value for training the policy\n",
    "        Q_target = Q.clone()\n",
    "        Q_target = Variable(Q_target)\n",
    "        Q_target[action] = reward + torch.mul(maxQ1.detach(), gamma)\n",
    "        \n",
    "        # Calculate loss\n",
    "        loss = loss_fn(Q, Q_target)\n",
    "        \n",
    "        # Update policy\n",
    "        policy.zero_grad()\n",
    "        loss.backward()\n",
    "        optimizer.step()\n",
    "\n",
    "        episode_loss += loss.item()\n",
    "        episode_reward += reward\n",
    "        \n",
    "        if done:\n",
    "            if state_1[0] >= 0.5:\n",
    "                # On successful epsisodes, adjust the following parameters\n",
    "\n",
    "                # Adjust epsilon\n",
    "                epsilon *= .95\n",
    "                writer.add_scalar('data/epsilon', epsilon, episode)\n",
    "\n",
    "                # Adjust learning rate\n",
    "                scheduler.step()\n",
    "                #optimizer.param_groups[0]['lr'] = max(optimizer.param_groups[0]['lr'], 1.0e-4)\n",
    "                writer.add_scalar('data/learning_rate', optimizer.param_groups[0]['lr'], episode)\n",
    "\n",
    "                # Record successful episode\n",
    "                successes += 1\n",
    "                writer.add_scalar('data/cumulative_success', successes, episode)\n",
    "                writer.add_scalar('data/success', 1, episode)\n",
    "            \n",
    "            elif state_1[0] < 0.5:\n",
    "                writer.add_scalar('data/success', 0, episode)\n",
    "            \n",
    "            # Record history\n",
    "            loss_history.append(episode_loss)\n",
    "            reward_history.append(episode_reward)\n",
    "            writer.add_scalar('data/episode_loss', episode_loss, episode)\n",
    "            writer.add_scalar('data/episode_reward', episode_reward, episode)\n",
    "            weights = np.sum(np.abs(policy.l2.weight.data.numpy()))+np.sum(np.abs(policy.l1.weight.data.numpy()))\n",
    "            writer.add_scalar('data/weights', weights, episode)\n",
    "            writer.add_scalar('data/position', state_1[0], episode)\n",
    "            position.append(state_1[0])\n",
    "\n",
    "            break\n",
    "        else:\n",
    "            state = state_1\n",
    "            \n",
    "writer.close()\n",
    "print('successful episodes: {:d} - {:.4f}%'.format(successes, successes/episodes*100))"
   ]
  },
  {
   "cell_type": "code",
   "execution_count": 13,
   "metadata": {},
   "outputs": [
    {
     "data": {
      "image/png": "[encoded data removed]",
      "text/plain": [
       "<Figure size 720x360 with 1 Axes>"
      ]
     },
     "metadata": {
      "needs_background": "light"
     },
     "output_type": "display_data"
    }
   ],
   "source": [
    "plt.figure(2, figsize=[10,5])\n",
    "p = pd.Series(position)\n",
    "ma = p.rolling(10).mean()\n",
    "plt.plot(p, alpha=0.8)\n",
    "plt.plot(ma)\n",
    "plt.xlabel('Episode')\n",
    "plt.ylabel('Position')\n",
    "plt.title('Car Final Position')\n",
    "plt.savefig('Final Position - Modified.png')\n",
    "plt.show()"
   ]
  },
  {
   "cell_type": "code",
   "execution_count": null,
   "metadata": {},
   "outputs": [],
   "source": []
  }
 ],
 "metadata": {
  "kernelspec": {
   "display_name": "Python 3",
   "language": "python",
   "name": "python3"
  },
  "language_info": {
   "codemirror_mode": {
    "name": "ipython",
    "version": 3
   },
   "file_extension": ".py",
   "mimetype": "text/x-python",
   "name": "python",
   "nbconvert_exporter": "python",
   "pygments_lexer": "ipython3",
   "version": "3.6.8"
  }
 },
 "nbformat": 4,
 "nbformat_minor": 2
}
